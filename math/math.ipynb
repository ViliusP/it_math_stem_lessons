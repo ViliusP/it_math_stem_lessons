{
 "cells": [
  {
   "cell_type": "markdown",
   "id": "e0713af8-4ccd-4877-8e4c-7983c373d1db",
   "metadata": {},
   "source": [
    "# Savarankiško darbo refleksija"
   ]
  },
  {
   "cell_type": "markdown",
   "id": "3cc270db-47a3-4231-afad-3eb9c2f89909",
   "metadata": {},
   "source": [
    "## Kaip išspręsti $ax^{2}+bx=0$\n",
    "\n",
    "### Teorinis sprendimas\n",
    "\n",
    "Žingsniai: \n",
    "\n",
    "1) Turime nepilną kvadratinę lygtį.\n",
    "\n",
    "    $ ax^{2}+ bx = 0; $\n",
    "2) Išskaidome dauginamaisiais - iškeliame $ x $ prieš skliaustus:\n",
    "\n",
    "    $ x(ax + b) = 0 $\n",
    "3) Iškėlus prieš skliaustus, jau turime vieną sprendinį ($ x $), kitą dar reikia susirasti:\n",
    "\n",
    "   $ ax+b = 0 $ $\\;\\;\\;$ arba $\\;\\;\\;$ $ x=0 $ \n",
    "4) Susitvarkome lygtį taip, kad vienoje pusėje atsirastų nariai su $ x $, o kitoje tik skaičiai. Tai padarysime atėmę iš abiejų pusių skaičių $ b $:\n",
    "\n",
    "   $ ax+b = 0 | - b $\n",
    "6) $ ax+b-b = 0-b $\n",
    "7) Reikia pasidaryti, kad kintamasis $ x $ būtų plikas - be dauginio $ a $. Tai padarysime padalinę lygtį iš to dauginio $ a $:\n",
    "\n",
    "    $ ax = -b | : a $\n",
    "8) $ \\frac{ax}{a} = -\\frac{b}{a} $\n",
    "9) $ x = -\\frac{b}{a} $\n",
    "\n",
    "Po 9 žingsnio turime du lygties sprendinius $ x = -\\frac{b}{a} $ ir $ x=0 $ (3 žingsnis)."
   ]
  },
  {
   "cell_type": "markdown",
   "id": "caecc410-b066-4c01-9c94-a3e3d65fad02",
   "metadata": {},
   "source": [
    "### Pavyzdys #1"
   ]
  },
  {
   "cell_type": "markdown",
   "id": "c57d775e-cd5b-49e5-8a13-840b677de368",
   "metadata": {},
   "source": [
    "Turime $ 2x^{2}-4x = 0; $\n",
    "\n",
    "Pagal formulę $ ax^{2}+ bx = 0 $:\n",
    "\n",
    "- $ a = 2; $\n",
    "- $ b = -4 $.\n",
    "\n",
    "Žingsniai: \n",
    "\n",
    "1) Išskaidome dauginamaisiais - iškeliame $ x $ prieš skliaustus:\n",
    "\n",
    "    $ x(2x - 4) = 0 $;\n",
    "2) Iškėlus prieš skliaustus, jau turime vieną sprendinį ($ x $), kitą dar reikia susirasti:\n",
    "\n",
    "   $ 2x-4 = 0 $ $\\;\\;\\;$ arba $\\;\\;\\;$ $ x=0 $ ;\n",
    "3) Susitvarkome lygtį taip, kad vienoje pusėje atsirastų nariai su $ x $, o kitoje tik skaičiai. Tai padarysime atėmę iš abiejų pusių skaičių $ 4 $:\n",
    "\n",
    "   $ 2x-4 = 0 | - 4 $;\n",
    "4) $ 2x+4-4 = 0-4 $;\n",
    "5) Reikia pasidaryti, kad kintamasis $ x $ būtų plikas - be dauginio $ 2 $. Tai padarysime padalinę lygtį iš to dauginio $ 2 $:\n",
    "\n",
    "    $ 2x = -4 | : 2 $;\n",
    "6) $ \\textcolor{blue}{\\frac{2x}{2}} = \\textcolor{red}{-\\frac{4}{2}} $;\n",
    "\n",
    "    $ \\textcolor{blue}{\\frac{2x}{2}}=\\textcolor{blue}{x} $;\n",
    "   \n",
    "    $ \\textcolor{red}{-\\frac{4}{2}}=\\textcolor{red}{-2} $;\n",
    "   \n",
    "8) $ \\textcolor{blue}{x} = \\textcolor{red}{-2} $;\n",
    "\n",
    "Po 7 žingsnio turime du lygties sprendinius $ x = -2 $ ir $ x=0 $ (2 žingsnis)."
   ]
  },
  {
   "cell_type": "code",
   "execution_count": null,
   "id": "98562f30-0617-4daf-bef1-f3709b77f2e0",
   "metadata": {},
   "outputs": [],
   "source": [
    "### Pavyzdys #2"
   ]
  }
 ],
 "metadata": {
  "kernelspec": {
   "display_name": "Python 3 (ipykernel)",
   "language": "python",
   "name": "python3"
  },
  "language_info": {
   "codemirror_mode": {
    "name": "ipython",
    "version": 3
   },
   "file_extension": ".py",
   "mimetype": "text/x-python",
   "name": "python",
   "nbconvert_exporter": "python",
   "pygments_lexer": "ipython3",
   "version": "3.10.12"
  }
 },
 "nbformat": 4,
 "nbformat_minor": 5
}
