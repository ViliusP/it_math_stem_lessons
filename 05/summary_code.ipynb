{
 "cells": [
  {
   "cell_type": "markdown",
   "metadata": {},
   "source": [
    "# Kintamieji ir sąlyginiai sakiniai"
   ]
  },
  {
   "cell_type": "markdown",
   "metadata": {},
   "source": [
    "## Kintamieji"
   ]
  },
  {
   "cell_type": "markdown",
   "metadata": {},
   "source": [
    "Programavime kintamaieji naudojami saugoti informaciją (pvz.: name, age, height, friends, is_adult, and person). Kintamasis sukuriamas tą momentą, kai jam priskiriama pirmojo reikšmė.\n",
    "Reikšmes galima parašius jo vardą, lygybės ženklą ir reikšmę:"
   ]
  },
  {
   "cell_type": "code",
   "execution_count": 86,
   "metadata": {},
   "outputs": [],
   "source": [
    "# Numerical variable assignments\n",
    "a = 10\n",
    "b = 20.5"
   ]
  },
  {
   "cell_type": "markdown",
   "metadata": {},
   "source": [
    "Šiomis dviem programinio kodo eilutėmis, buvo sukurti du kintamieji *a* ir *b* ir buvo priskirtos reikšmės *10* ir *20,5* atitinkamai. Nuo šio momentu, šie kintamieji gali būti panaudoti skaičiuojant kitas reikšmes, modifikuojant patį kintąmąjį ar atliekant veiksmus."
   ]
  },
  {
   "cell_type": "markdown",
   "metadata": {},
   "source": [
    "Pavyzdžiui galime atlikti pagrindinius aritmetinius veiksmus, o šių veiksmų rezultatus priskirti naujiems kintamiesiems:"
   ]
  },
  {
   "cell_type": "code",
   "execution_count": 87,
   "metadata": {},
   "outputs": [],
   "source": [
    "# Basic arithmetic operations\n",
    "sum_ab = a + b # sum\n",
    "diff_ab = a - b # subtraction\n",
    "prod_ab = a * b # multiplication\n",
    "quot_ab = a / b # division\n",
    "mod_ab = a % b # modulo (remainder after division)"
   ]
  },
  {
   "cell_type": "code",
   "execution_count": 88,
   "metadata": {},
   "outputs": [
    {
     "name": "stdout",
     "output_type": "stream",
     "text": [
      "Sum of a and b: 30.5\n",
      "Difference when b is subtracted from a: -10.5\n",
      "Product of a and b: 205.0\n",
      "Quotient when a is divided by b: 0.4878048780487805\n",
      "Remainder when a is divided by b: 10.0\n"
     ]
    }
   ],
   "source": [
    "# Displaying results\n",
    "print(\"Sum of a and b: \" + str(sum_ab))\n",
    "print(\"Difference when b is subtracted from a: \" + str(diff_ab))\n",
    "print(\"Product of a and b: \" + str(prod_ab))\n",
    "print(\"Quotient when a is divided by b: \" + str(quot_ab))\n",
    "print(\"Remainder when a is divided by b: \" + str(mod_ab))"
   ]
  },
  {
   "cell_type": "markdown",
   "metadata": {},
   "source": [
    "### Kodo paaiškinimas\n",
    "\n",
    "\"# tekstas\" - reiškia komentarą. Šis komentaras skirtas žmonėms skaitantiems kodą. Komentarai nedaro įtakos programos vykdymui.\n",
    "\n",
    "\"print(argumentas)\" - *print* raktožodis reiškia funkcija, kuri atvaizduoja ekrane pateiktą reikšmę (argumentą).\n",
    "\n",
    "Kabutėse pateikta reikšmės yra eilutės tipo reikšmė (galima tai laikyti, kaip tekstinį tipą). Funkcijoje *print* pateiktos eilutės reikšmės yra sujungiamos su \"+\" ženklus ir kita reikšme/kintamuoju. Pavyzdžiui *print(\"Sum of a and b: \" + str(sum_ab))* eilutės vykdymo metu iškviečiama *print()* funkcija (ji yra kažkur *python* viduje kažkieno kito suprogramuota), ši funkcija išveda į ekraną visą argumentą (*\"Sum of a and b: \" + str(sum_ab)*). Šiame argumente yra reiškinys - eilutės reikšmių sudėtis. Čia randama dar viena funkcija *str()*. Ši funkcija paverčia bet kokį pateiktą kintąmjį/reiškinį į eilutės tipo reikšmę. Tai turime tokį reiškinys: eilutė+eilutė. Tai galų galiausiai paimama *sum_ab* reikšmė, ji paverčia eilute (tekstu), o ši eilutė (tekstas) prijungiamas prie *\"Sum of a and b: \"*.\n"
   ]
  },
  {
   "cell_type": "markdown",
   "metadata": {},
   "source": [
    "### Kintamojo panaudojimo pavyzdys\n",
    "\n",
    "Kintamuosius gerai panaudoti, kai jie naudojami kelis kartus kode, pavyzdžiui turime kažkokį tai matematinį reiškinį $y = (a+b) \\cdot 15 / (a-b)$. Šį galima parašyti, naudojantis jau anksčiau sukurtais kintamaisiais:"
   ]
  },
  {
   "cell_type": "code",
   "execution_count": 89,
   "metadata": {},
   "outputs": [
    {
     "name": "stdout",
     "output_type": "stream",
     "text": [
      "Result of the expression: -43.57142857142857\n"
     ]
    }
   ],
   "source": [
    "# Using variables in mathematical expressions\n",
    "y = (a + b) * 15 / (a - b)\n",
    "print(\"Result of the expression: \" + str(y))"
   ]
  },
  {
   "cell_type": "markdown",
   "metadata": {},
   "source": [
    "### Kintamųjų tipai\n",
    "\n",
    "Programavime, dažnu atveju, yra skirtingų tipų kintamieji. *Python* programavimo kalboje yra tokių tipų kintamieji:\n",
    "- sveikieji skaičiai (integer);\n",
    "- dešimtainiai/slankiojo kablelio skaičiai (float);\n",
    "- teksto/eilutės (string);\n",
    "- loginės (bool)."
   ]
  },
  {
   "cell_type": "code",
   "execution_count": 90,
   "metadata": {},
   "outputs": [],
   "source": [
    "# Assigning values to variables\n",
    "name = \"John\"  # str: a string data type that holds textual information\n",
    "age = 30  # int: an integer data type that holds whole numbers\n",
    "height = 5.9  # float: a floating-point data type that holds numbers with decimal points\n",
    "is_raining = True # bool: a boolean data type that holds either true or either false"
   ]
  },
  {
   "cell_type": "markdown",
   "metadata": {},
   "source": [
    "Sužinoti kintąmojo tipą galima sužinoti panaudojus funkciją *type(arg)*, kuri gražina eilutės reikšmę, kuri parodo, kokio tipo yra kintamasis:"
   ]
  },
  {
   "cell_type": "code",
   "execution_count": 91,
   "metadata": {},
   "outputs": [
    {
     "name": "stdout",
     "output_type": "stream",
     "text": [
      "<class 'str'>\n",
      "<class 'int'>\n",
      "<class 'float'>\n",
      "<class 'bool'>\n",
      "<class 'int'>\n",
      "<class 'float'>\n"
     ]
    }
   ],
   "source": [
    "print(type(name))\n",
    "print(type(age))\n",
    "print(type(height))\n",
    "print(type(is_raining))\n",
    "print(type(a))\n",
    "print(type(sum_ab))"
   ]
  },
  {
   "cell_type": "markdown",
   "metadata": {},
   "source": [
    "Atkreipkite dėmesį kintamasis *a* yra sveikojo skaičiaus tipo (žiūrėti į priešpaskutinę eilutę), o jau atliktus operaciją (sudėtį) su kitu skaičiu (slankiojo kablelio, *angl. float*) ir priskyrus kintąmajam, šis į gavo slankiojo kablelio tipą (žiūrėti į paskutinę eilutę). "
   ]
  },
  {
   "cell_type": "markdown",
   "metadata": {},
   "source": [
    "### Kintamųjų vardų rašymo taisyklės\n",
    "\n",
    "- Kintamojo vardas **turi** prasidėti su raide arba apatiniu brūkšniu (\"-\");\n",
    "- Kintamjo varads **negali** prasidėti skaičiumi;\n",
    "- Kintamjo varde **gali būti tik** raidžių-skaičių (alpha-numeric) ženklai ir apatiniai ženklai (A-z, 0-9, and _ );\n",
    "- Kintamojo varduose **paistomi** simbolių dydžiai (mažosios ir didžiosios raidės) (case-sensitive) - tai reiškia, kad \"A\" nėra lygu \"a\";\n",
    "- Kintamojo vardas *negali* būti Python raktožodis."
   ]
  },
  {
   "cell_type": "code",
   "execution_count": 92,
   "metadata": {},
   "outputs": [],
   "source": [
    "myname = \"Vilius\"\n",
    "my_name = \"Vilius\"\n",
    "_my_name = \"Vilius\"\n",
    "myName = \"Vilius\"\n",
    "MYNAME = \"Vilius\"\n",
    "myname2 = \"Vilius\""
   ]
  },
  {
   "cell_type": "markdown",
   "metadata": {},
   "source": [
    "Nors ir *Python* turi savo apribojimu, bet programuotojų bendruomenėje yra sutartos taisyklės, kaip geriausia rašyti kintamuosius: naudokite mažąją raidę, žodį ar žodžius mažosiomis raidėmis. Kad būtų lengviau skaityti, žodžius atskirkite apatiniu brūkšniu (pagal [PEP8](https://peps.python.org/pep-0008/)). Toks rašymo būdas vadinasi *snake_case*."
   ]
  },
  {
   "cell_type": "code",
   "execution_count": 93,
   "metadata": {},
   "outputs": [],
   "source": [
    "# Bad cases\n",
    "fiRsTNAME = \"Vilius\"\n",
    "FIRSTCASE = \"Vilius\"\n",
    "firstcase = \"Vilius\"\n",
    "f_i_r_s_t_c_a_s_e = \"Vilius\"\n",
    "\n",
    "# Good case\n",
    "first_name = \"Vilius\""
   ]
  },
  {
   "cell_type": "markdown",
   "metadata": {},
   "source": [
    "## Sąlyginiai sakiniai\n",
    "\n",
    "Prieš tai užrašytas kodas buvo vykdomas nuosekliai, po vieną eilutę, iš viršaus į apačią, nepraleidžiant nei vienos, išskyrus komentarus. Veiksmų eigai šakoti gali būti panaudoti sąlyginiai sakiniai. Sąlygas naudojime ir kasdieniniame gyvenime: jei bus X, tai darysiu Y arba darysiu Y, jeigu bus X. Pavyzdžiui: \n",
    "- jei dega raudona šviesoforo signalas: sustosiu.\n",
    "- jei dega geltonas šviesoforo signalas: sulėtinsiu greitį.\n",
    "- jei dega žalias šviesoforo signalas: važiuosiu."
   ]
  },
  {
   "cell_type": "markdown",
   "metadata": {},
   "source": [
    "### Palyginimo operatoriai\n",
    "Prieš išsiaiškinant, kaip rašomi sąlyginiai sakiniai programavime, svarbu žinoti loginius ir palyginimo operatorius, kurie dažniausiai naudojami užrašant tuos sąlyginius sakinius. Pats operatorius yra ženklas arba simbolis, nurodantis skaičiavimo, kurį reikia vykdyti reiškinyje, tipą. Loginiai operatoriai išrašyti žemiau:\n",
    "\n",
    "| Operatorius |      Pavadinimas     | Pavyzdys |\n",
    "|-------------|:--------------------:|----------|\n",
    "| ==          |        Ar lygu       | x == y   |\n",
    "| !=          |       Ar nelygu      | x != y   |\n",
    "| >           |     Ar daugiau už    | x > y    |\n",
    "| <           |     Ar mažiau už     | x < y    |\n",
    "| >=          | Daugiau už arba lygu | x >= y   |\n",
    "| <=          |  Mažiau už arba lygu | x <= y   |\n",
    "\n",
    "Naudojantis šiuos operatorius ir du kintamuosius/reikšmes gaunama *True* arba *False* reikšmė. Taip galima patikrinti, ar du skaičiai lygūs, ar žodis ilgesnis už kitą, ar temperatūra šiandienos didesnė nei praėjusiais metais ir t.t."
   ]
  },
  {
   "cell_type": "code",
   "execution_count": 94,
   "metadata": {},
   "outputs": [
    {
     "name": "stdout",
     "output_type": "stream",
     "text": [
      "Is a equal to b? False\n",
      "Is a not equal to b? True\n",
      "Is a greater than b? False\n",
      "Is a less than b? True\n",
      "Is a greater than or equal to b? False\n",
      "Is a less than or equal to b? True\n"
     ]
    }
   ],
   "source": [
    "# a and b variables are defined above\n",
    "# a is defined as 10\n",
    "# b is defined as 20.5\n",
    "# Comparison operations\n",
    "is_equal = a == b\n",
    "is_not_equal = a != b\n",
    "is_greater = a > b\n",
    "is_less = a < b\n",
    "is_greater_equal = a >= b\n",
    "is_less_equal = a <= b\n",
    "\n",
    "# Displaying comparison results\n",
    "print(\"Is a equal to b? \" + str(is_equal))\n",
    "print(\"Is a not equal to b? \" + str(is_not_equal))\n",
    "print(\"Is a greater than b? \" + str(is_greater))\n",
    "print(\"Is a less than b? \" + str(is_less))\n",
    "print(\"Is a greater than or equal to b? \" + str(is_greater_equal))\n",
    "print(\"Is a less than or equal to b? \" + str(is_less_equal))"
   ]
  },
  {
   "cell_type": "markdown",
   "metadata": {},
   "source": [
    "### Loginiai operatoriai\n",
    "\n",
    "Kad būtų galima jungti šių operacijų rezultatus, pavyzdžiui, ar temperatūra šiandienos didesnė nei praėjusiais metais ir šiandien lijo, bet nelijo vakar, tai naudojami loginiai operatoriai: \n",
    "\n",
    "| Operatorius |                             Pavadinimas                            | Pavyzdys         |\n",
    "|-------------|:------------------------------------------------------------------:|------------------|\n",
    "| and         | Grąžina True jeigu abu jei abu teiginiai (operandai) yra teisingi. | x < 5 and x < 10 |\n",
    "| or          |   Grąžina True jeigu vienas iš teiginių (operandų) yra teisingas.  | x < 5 or x < 4   |\n",
    "| not         |      Apverčia rezultatą, grąžina False, jeigu rezultatas true      | x > y            |\n",
    "\n",
    "Operacijų su šiais operandais rezultatais taip pat yra loginis (*True* arba *False*)."
   ]
  },
  {
   "cell_type": "code",
   "execution_count": 95,
   "metadata": {},
   "outputs": [
    {
     "name": "stdout",
     "output_type": "stream",
     "text": [
      "Is a equal to b AND is x equal to y? False\n",
      "Is a a equal to b OR is x not equal to y? False\n",
      "Is a a not equal to b AND is x not equal to y? True\n"
     ]
    }
   ],
   "source": [
    "# Defining new variables\n",
    "x = 15\n",
    "y = 10\n",
    "\n",
    "# a and b variables are defined above\n",
    "# a is defined as 10\n",
    "# b is defined as 20.5\n",
    "# Logical and comparison operations\n",
    "is_equal = a == b and X == y\n",
    "is_ab_equal_or_xy_not_equal = a == b and X != y\n",
    "is_ab_not_equal_and_xy_not_equal = a != b and x != y\n",
    "\n",
    "# Displaying comparison results\n",
    "print(\"Is a equal to b AND is x equal to y? \" + str(is_equal))\n",
    "print(\"Is a a equal to b OR is x not equal to y? \" + str(is_ab_equal_or_xy_not_equal))\n",
    "print(\"Is a a not equal to b AND is x not equal to y? \" + str(is_ab_not_equal_and_xy_not_equal))"
   ]
  },
  {
   "cell_type": "markdown",
   "metadata": {},
   "source": [
    "### Sąlyginių sakinių sintaksė \n",
    "\n",
    "Sąlyginiai sakiniai (kai norime atlikti kodą pagal tai ar sąlyga yra tiesa) užrašomi naudojant raktažodį *if*. Pavyzdys:"
   ]
  },
  {
   "cell_type": "code",
   "execution_count": 96,
   "metadata": {},
   "outputs": [
    {
     "name": "stdout",
     "output_type": "stream",
     "text": [
      "a is lesser than b\n"
     ]
    }
   ],
   "source": [
    "# a and b is defined earlier\n",
    "if a > b: \n",
    "    print(\"a is greater than b\")\n",
    "if a < b: \n",
    "    print(\"a is lesser than b\")"
   ]
  },
  {
   "cell_type": "markdown",
   "metadata": {},
   "source": [
    "Kaip matote, po sąlygos raktažodžio *if* rašomas reiškinys, kurio rezultatas yra *True* arba *False*. Šie sakiniai dažniausiai galima būti skaitomi paprastai, kaip įprastas tekstas. Šiuo atveju galima skaityti taip:\n",
    "\n",
    "1. jeigu a yra daugiau už b, tai atspausdint \"a is greater than b\";\n",
    "2. jeigu a yra mažiau už b, tai atspausdink \"a is lesser than b\".\n",
    "\n",
    "Svarbu žinoti, kad po sąlygos visos eilutės atitrauktos nuo dešinės pusės (žiūrėkite į kodą), bus įvykdytos. Pavyzdžiui:"
   ]
  },
  {
   "cell_type": "code",
   "execution_count": 97,
   "metadata": {},
   "outputs": [
    {
     "name": "stdout",
     "output_type": "stream",
     "text": [
      "1. a is lesser than b\n",
      "2. a is lesser than b\n",
      "3. a is lesser than b\n",
      "4. a is lesser than b\n",
      "5. a is lesser than b\n",
      "6. a is lesser than b\n",
      "7. a is lesser than b\n"
     ]
    }
   ],
   "source": [
    "# a and b is defined earlier\n",
    "if a > b: \n",
    "    print(\"1. a is greater than b\")\n",
    "    print(\"2. a is greater than b\")\n",
    "    print(\"3. a is greater than b\")\n",
    "    print(\"4. a is greater than b\")\n",
    "    print(\"5. a is greater than b\")\n",
    "    print(\"6. a is greater than b\")\n",
    "    print(\"7. a is greater than b\")\n",
    "    print(\"8. a is greater than b\")\n",
    "    print(\"9. a is greater than b\")\n",
    "if a < b: \n",
    "    print(\"1. a is lesser than b\")\n",
    "    print(\"2. a is lesser than b\")\n",
    "    print(\"3. a is lesser than b\")\n",
    "    print(\"4. a is lesser than b\")\n",
    "    print(\"5. a is lesser than b\")\n",
    "    print(\"6. a is lesser than b\")\n",
    "    print(\"7. a is lesser than b\")"
   ]
  },
  {
   "cell_type": "markdown",
   "metadata": {},
   "source": [
    "Taip galima įterpti net ir kitus sąlygos blokus: "
   ]
  },
  {
   "cell_type": "code",
   "execution_count": 98,
   "metadata": {},
   "outputs": [
    {
     "name": "stdout",
     "output_type": "stream",
     "text": [
      "a is lesser than b\n",
      "b is greater than b\n"
     ]
    }
   ],
   "source": [
    "if a < b: \n",
    "    print(\"a is lesser than b\")\n",
    "    if b > a: \n",
    "        print(\"b is greater than b\")"
   ]
  },
  {
   "cell_type": "markdown",
   "metadata": {},
   "source": [
    "Programavimo kalbos, įskaitant ir *Python*, turi dar vieną raktažodį užrašyti kitokio veikimo sąlygas:"
   ]
  },
  {
   "cell_type": "markdown",
   "metadata": {},
   "source": [
    "### Sąlyginiai sakiniai ir loginiai operatoriai"
   ]
  },
  {
   "cell_type": "code",
   "execution_count": 99,
   "metadata": {},
   "outputs": [
    {
     "name": "stdout",
     "output_type": "stream",
     "text": [
      "x is greater than y AND x is less than z.\n",
      "x is greater than y OR x is greater than z.\n",
      "x IS greater than y.\n",
      "x is greater than y AND x is NOT greater than z.\n",
      "At least one condition is true.\n",
      "Either x is greater than y OR z is the greatest amongst x and y.\n"
     ]
    }
   ],
   "source": [
    "z = 20\n",
    "# x and y is defined earlier, above\n",
    "# Using 'and' logical operator\n",
    "if x > y and x < z:\n",
    "    print(\"x is greater than y AND x is less than z.\")\n",
    "\n",
    "# Using 'or' logical operator\n",
    "if x > y or x > z:\n",
    "    print(\"x is greater than y OR x is greater than z.\")\n",
    "\n",
    "# Using 'not' logical operator\n",
    "is_x_greater_than_y = x > y\n",
    "if not is_x_greater_than_y:\n",
    "    print(\"x is NOT greater than y.\")\n",
    "else:\n",
    "    print(\"x IS greater than y.\")\n",
    "\n",
    "# Combining logical operators\n",
    "if x > y and (not x > z):\n",
    "    print(\"x is greater than y AND x is NOT greater than z.\")\n",
    "\n",
    "# Using 'not' with 'or'\n",
    "if not (x > y or x > z):\n",
    "    print(\"Neither condition is true.\")\n",
    "else:\n",
    "    print(\"At least one condition is true.\")\n",
    "\n",
    "# Checking multiple conditions\n",
    "if x > y and x > z and x > 0:\n",
    "    print(\"x is the largest and positive number.\")\n",
    "elif x > y or (z > x and z > y):\n",
    "    print(\"Either x is greater than y OR z is the greatest amongst x and y.\")\n",
    "else:\n",
    "    print(\"None of the above conditions are true.\")"
   ]
  },
  {
   "cell_type": "markdown",
   "metadata": {},
   "source": [
    "# Daugiau informacijos\n",
    "- https://realpython.com/python-variables/\n",
    "- https://www.w3schools.com/python/gloss_python_creating_variables.asp\n",
    "- https://realpython.com/python-conditional-statements/\n",
    "- https://www.geeksforgeeks.org/python-if-else/"
   ]
  },
  {
   "cell_type": "code",
   "execution_count": null,
   "metadata": {},
   "outputs": [],
   "source": []
  },
  {
   "cell_type": "code",
   "execution_count": null,
   "metadata": {},
   "outputs": [],
   "source": []
  },
  {
   "cell_type": "code",
   "execution_count": null,
   "metadata": {},
   "outputs": [],
   "source": []
  },
  {
   "cell_type": "code",
   "execution_count": null,
   "metadata": {},
   "outputs": [],
   "source": []
  },
  {
   "cell_type": "code",
   "execution_count": null,
   "metadata": {},
   "outputs": [],
   "source": []
  },
  {
   "cell_type": "code",
   "execution_count": null,
   "metadata": {},
   "outputs": [],
   "source": []
  },
  {
   "cell_type": "code",
   "execution_count": null,
   "metadata": {},
   "outputs": [],
   "source": []
  },
  {
   "cell_type": "code",
   "execution_count": null,
   "metadata": {},
   "outputs": [],
   "source": []
  },
  {
   "cell_type": "code",
   "execution_count": null,
   "metadata": {},
   "outputs": [],
   "source": []
  },
  {
   "cell_type": "code",
   "execution_count": null,
   "metadata": {},
   "outputs": [],
   "source": []
  },
  {
   "cell_type": "code",
   "execution_count": null,
   "metadata": {},
   "outputs": [],
   "source": []
  },
  {
   "cell_type": "code",
   "execution_count": null,
   "metadata": {},
   "outputs": [],
   "source": []
  },
  {
   "cell_type": "code",
   "execution_count": null,
   "metadata": {},
   "outputs": [],
   "source": []
  },
  {
   "cell_type": "code",
   "execution_count": null,
   "metadata": {},
   "outputs": [],
   "source": []
  },
  {
   "cell_type": "code",
   "execution_count": null,
   "metadata": {},
   "outputs": [],
   "source": []
  },
  {
   "cell_type": "code",
   "execution_count": null,
   "metadata": {},
   "outputs": [],
   "source": []
  },
  {
   "cell_type": "code",
   "execution_count": null,
   "metadata": {},
   "outputs": [],
   "source": []
  },
  {
   "cell_type": "code",
   "execution_count": null,
   "metadata": {},
   "outputs": [],
   "source": []
  },
  {
   "cell_type": "code",
   "execution_count": null,
   "metadata": {},
   "outputs": [],
   "source": []
  },
  {
   "cell_type": "code",
   "execution_count": null,
   "metadata": {},
   "outputs": [],
   "source": []
  },
  {
   "cell_type": "code",
   "execution_count": null,
   "metadata": {},
   "outputs": [],
   "source": []
  }
 ],
 "metadata": {
  "kernelspec": {
   "display_name": "Python 3 (ipykernel)",
   "language": "python",
   "name": "python3"
  },
  "language_info": {
   "codemirror_mode": {
    "name": "ipython",
    "version": 3
   },
   "file_extension": ".py",
   "mimetype": "text/x-python",
   "name": "python",
   "nbconvert_exporter": "python",
   "pygments_lexer": "ipython3",
   "version": "3.10.12"
  }
 },
 "nbformat": 4,
 "nbformat_minor": 4
}
