{
 "cells": [
  {
   "cell_type": "markdown",
   "metadata": {},
   "source": [
    "# Kintamieji ir sąlyginiai sakiniai"
   ]
  },
  {
   "cell_type": "markdown",
   "metadata": {},
   "source": [
    "## Kintamieji"
   ]
  },
  {
   "cell_type": "markdown",
   "metadata": {},
   "source": [
    "Programavime kintamaieji naudojami saugoti informaciją (pvz.: name, age, height, friends, is_adult, and person). Kintamasis sukuriamas tą momentą, kai jam priskiriama pirmojo reikšmė.\n",
    "Reikšmes galima parašius jo vardą, lygybės ženklą ir reikšmę:"
   ]
  },
  {
   "cell_type": "code",
   "execution_count": 2,
   "metadata": {},
   "outputs": [],
   "source": [
    "# Numerical variable assignments\n",
    "a = 10\n",
    "b = 20.5"
   ]
  },
  {
   "cell_type": "markdown",
   "metadata": {},
   "source": [
    "Šiomis dviem programinio kodo eilutėmis, buvo sukurti du kintamieji *a* ir *b* ir buvo priskirtos reikšmės *10* ir *20,5* atitinkamai. Nuo šio momentu, šie kintamieji gali būti panaudoti skaičiuojant kitas reikšmes, modifikuojant patį kintąmąjį ar atliekant veiksmus."
   ]
  },
  {
   "cell_type": "markdown",
   "metadata": {},
   "source": [
    "Pavyzdžiui galime atlikti pagrindinius aritmetinius veiksmus, o šių veiksmų rezultatus priskirti naujiems kintamiesiems:"
   ]
  },
  {
   "cell_type": "code",
   "execution_count": 3,
   "metadata": {},
   "outputs": [],
   "source": [
    "# Basic arithmetic operations\n",
    "sum_ab = a + b # sum\n",
    "diff_ab = a - b # subtraction\n",
    "prod_ab = a * b # multiplication\n",
    "quot_ab = a / b # division\n",
    "mod_ab = a % b # modulo (remainder after division)"
   ]
  },
  {
   "cell_type": "code",
   "execution_count": 4,
   "metadata": {},
   "outputs": [
    {
     "name": "stdout",
     "output_type": "stream",
     "text": [
      "Sum of a and b: 30.5\n",
      "Difference when b is subtracted from a: -10.5\n",
      "Product of a and b: 205.0\n",
      "Quotient when a is divided by b: 0.4878048780487805\n",
      "Remainder when a is divided by b: 10.0\n"
     ]
    }
   ],
   "source": [
    "# Displaying results\n",
    "print(\"Sum of a and b: \" + str(sum_ab))\n",
    "print(\"Difference when b is subtracted from a: \" + str(diff_ab))\n",
    "print(\"Product of a and b: \" + str(prod_ab))\n",
    "print(\"Quotient when a is divided by b: \" + str(quot_ab))\n",
    "print(\"Remainder when a is divided by b: \" + str(mod_ab))"
   ]
  },
  {
   "cell_type": "markdown",
   "metadata": {},
   "source": [
    "### Kodo paaiškinimas\n",
    "\n",
    "\"# tekstas\" - reiškia komentarą. Šis komentaras skirtas žmonėms skaitantiems kodą. Komentarai nedaro įtakos programos vykdymui.\n",
    "\n",
    "\"print(argumentas)\" - *print* raktožodis reiškia funkcija, kuri atvaizduoja ekrane pateiktą reikšmę (argumentą).\n",
    "\n",
    "Kabutėse pateikta reikšmės yra eilutės tipo reikšmė (galima tai laikyti, kaip tekstinį tipą). Funkcijoje *print* pateiktos eilutės reikšmės yra sujungiamos su \"+\" ženklus ir kita reikšme/kintamuoju. Pavyzdžiui *print(\"Sum of a and b: \" + str(sum_ab))* eilutės vykdymo metu iškviečiama *print()* funkcija (ji yra kažkur *python* viduje kažkieno kito suprogramuota), ši funkcija išveda į ekraną visą argumentą (*\"Sum of a and b: \" + str(sum_ab)*). Šiame argumente yra reiškinys - eilutės reikšmių sudėtis. Čia randama dar viena funkcija *str()*. Ši funkcija paverčia bet kokį pateiktą kintąmjį/reiškinį į eilutės tipo reikšmę. Tai turime tokį reiškinys: eilutė+eilutė. Tai galų galiausiai paimama *sum_ab* reikšmė, ji paverčia eilute (tekstu), o ši eilutė (tekstas) prijungiamas prie *\"Sum of a and b: \"*.\n"
   ]
  },
  {
   "cell_type": "markdown",
   "metadata": {},
   "source": [
    "### Kintamojo panaudojimo pavyzdys\n",
    "\n",
    "Kintamuosius gerai panaudoti, kai jie naudojami kelis kartus kode, pavyzdžiui turime kažkokį tai matematinį reiškinį $y = (a+b) \\cdot 15 / (a-b)$. Šį galima parašyti, naudojantis jau anksčiau sukurtais kintamaisiais:"
   ]
  },
  {
   "cell_type": "code",
   "execution_count": 5,
   "metadata": {},
   "outputs": [
    {
     "name": "stdout",
     "output_type": "stream",
     "text": [
      "Result of the expression: -43.57142857142857\n"
     ]
    }
   ],
   "source": [
    "# Using variables in mathematical expressions\n",
    "y = (a + b) * 15 / (a - b)\n",
    "print(\"Result of the expression: \" + str(y))"
   ]
  },
  {
   "cell_type": "markdown",
   "metadata": {},
   "source": [
    "### Kintamųjų tipai\n",
    "\n",
    "Programavime, dažnu atveju, yra skirtingų tipų kintamieji. *Python* programavimo kalboje yra tokių tipų kintamieji:\n",
    "- sveikieji skaičiai (integer);\n",
    "- dešimtainiai/slankiojo kablelio skaičiai (float);\n",
    "- teksto/eilutės (string);\n",
    "- loginės (bool)."
   ]
  },
  {
   "cell_type": "code",
   "execution_count": 6,
   "metadata": {},
   "outputs": [],
   "source": [
    "# Assigning values to variables\n",
    "name = \"John\"  # str: a string data type that holds textual information\n",
    "age = 30  # int: an integer data type that holds whole numbers\n",
    "height = 5.9  # float: a floating-point data type that holds numbers with decimal points\n",
    "is_raining = True # bool: a boolean data type that holds either true or either false"
   ]
  },
  {
   "cell_type": "markdown",
   "metadata": {},
   "source": [
    "Sužinoti kintąmojo tipą galima sužinoti panaudojus funkciją *type(arg)*, kuri gražina eilutės reikšmę, kuri parodo, kokio tipo yra kintamasis:"
   ]
  },
  {
   "cell_type": "code",
   "execution_count": 7,
   "metadata": {},
   "outputs": [
    {
     "name": "stdout",
     "output_type": "stream",
     "text": [
      "<class 'str'>\n",
      "<class 'int'>\n",
      "<class 'float'>\n",
      "<class 'bool'>\n",
      "<class 'int'>\n",
      "<class 'float'>\n"
     ]
    }
   ],
   "source": [
    "print(type(name))\n",
    "print(type(age))\n",
    "print(type(height))\n",
    "print(type(is_raining))\n",
    "print(type(a))\n",
    "print(type(sum_ab))"
   ]
  },
  {
   "cell_type": "markdown",
   "metadata": {},
   "source": [
    "Atkreipkite dėmesį kintamasis *a* yra sveikojo skaičiaus tipo (žiūrėti į priešpaskutinę eilutę), o jau atliktus operaciją (sudėtį) su kitu skaičiu (slankiojo kablelio, *angl. float*) ir priskyrus kintąmajam, šis į gavo slankiojo kablelio tipą (žiūrėti į paskutinę eilutę). "
   ]
  },
  {
   "cell_type": "markdown",
   "metadata": {},
   "source": [
    "### Kintamųjų vardų rašymo taisyklės\n",
    "\n",
    "- Kintamojo vardas **turi** prasidėti su raide arba apatiniu brūkšniu (\"-\");\n",
    "- Kintamjo varads **negali** prasidėti skaičiumi;\n",
    "- Kintamjo varde **gali būti tik** raidžių-skaičių (alpha-numeric) ženklai ir apatiniai ženklai (A-z, 0-9, and _ );\n",
    "- Kintamojo varduose **paistomi** simbolių dydžiai (mažosios ir didžiosios raidės) (case-sensitive) - tai reiškia, kad \"A\" nėra lygu \"a\";\n",
    "- Kintamojo vardas *negali* būti Python raktožodis."
   ]
  },
  {
   "cell_type": "code",
   "execution_count": 8,
   "metadata": {},
   "outputs": [],
   "source": [
    "myname = \"Vilius\"\n",
    "my_name = \"Vilius\"\n",
    "_my_name = \"Vilius\"\n",
    "myName = \"Vilius\"\n",
    "MYNAME = \"Vilius\"\n",
    "myname2 = \"Vilius\""
   ]
  },
  {
   "cell_type": "markdown",
   "metadata": {},
   "source": [
    "Nors ir *Python* turi savo apribojimu, bet programuotojų bendruomenėje yra sutartos taisyklės, kaip geriausia rašyti kintamuosius: naudokite mažąją raidę, žodį ar žodžius mažosiomis raidėmis. Kad būtų lengviau skaityti, žodžius atskirkite apatiniu brūkšniu (pagal [PEP8](https://peps.python.org/pep-0008/)). Toks rašymo būdas vadinasi *snake_case*."
   ]
  },
  {
   "cell_type": "code",
   "execution_count": 9,
   "metadata": {},
   "outputs": [],
   "source": [
    "# Bad cases\n",
    "fiRsTNAME = \"Vilius\"\n",
    "FIRSTCASE = \"Vilius\"\n",
    "firstcase = \"Vilius\"\n",
    "f_i_r_s_t_c_a_s_e = \"Vilius\"\n",
    "\n",
    "# Good case\n",
    "first_name = \"Vilius\""
   ]
  },
  {
   "cell_type": "markdown",
   "metadata": {},
   "source": [
    "## Sąlyginiai sakiniai\n",
    "\n",
    "Prieš tai užrašytas kodas buvo vykdomas nuosekliai, po vieną eilutę, iš viršaus į apačią, nepraleidžiant nei vienos, išskyrus komentarus. Veiksmų eigai šakoti gali būti panaudoti sąlyginiai sakiniai. Sąlygas naudojime ir kasdieniniame gyvenime: jei bus X, tai darysiu Y arba darysiu Y, jeigu bus X. Pavyzdžiui: \n",
    "- jei dega raudona šviesoforo signalas: sustosiu.\n",
    "- jei dega geltonas šviesoforo signalas: sulėtinsiu greitį.\n",
    "- jei dega žalias šviesoforo signalas: važiuosiu."
   ]
  },
  {
   "cell_type": "markdown",
   "metadata": {},
   "source": [
    "### Palyginimo operatoriai\n",
    "Prieš išsiaiškinant, kaip rašomi sąlyginiai sakiniai programavime, svarbu žinoti loginius ir palyginimo operatorius, kurie dažniausiai naudojami užrašant tuos sąlyginius sakinius. Pats operatorius yra ženklas arba simbolis, nurodantis skaičiavimo, kurį reikia vykdyti reiškinyje, tipą. Loginiai operatoriai išrašyti žemiau:\n",
    "\n",
    "| Operatorius |      Pavadinimas     | Pavyzdys |\n",
    "|-------------|:--------------------:|----------|\n",
    "| ==          |        Ar lygu       | x == y   |\n",
    "| !=          |       Ar nelygu      | x != y   |\n",
    "| >           |     Ar daugiau už    | x > y    |\n",
    "| <           |     Ar mažiau už     | x < y    |\n",
    "| >=          | Daugiau už arba lygu | x >= y   |\n",
    "| <=          |  Mažiau už arba lygu | x <= y   |\n",
    "\n",
    "Naudojantis šiuos operatorius ir du kintamuosius/reikšmes gaunama *True* arba *False* reikšmė. Taip galima patikrinti, ar du skaičiai lygūs, ar žodis ilgesnis už kitą, ar temperatūra šiandienos didesnė nei praėjusiais metais ir t.t."
   ]
  },
  {
   "cell_type": "code",
   "execution_count": 10,
   "metadata": {},
   "outputs": [
    {
     "name": "stdout",
     "output_type": "stream",
     "text": [
      "Is a equal to b? False\n",
      "Is a not equal to b? True\n",
      "Is a greater than b? False\n",
      "Is a less than b? True\n",
      "Is a greater than or equal to b? False\n",
      "Is a less than or equal to b? True\n"
     ]
    }
   ],
   "source": [
    "# a and b variables are defined above\n",
    "# a is defined as 10\n",
    "# b is defined as 20.5\n",
    "# Comparison operations\n",
    "is_equal = a == b\n",
    "is_not_equal = a != b\n",
    "is_greater = a > b\n",
    "is_less = a < b\n",
    "is_greater_equal = a >= b\n",
    "is_less_equal = a <= b\n",
    "\n",
    "# Displaying comparison results\n",
    "print(\"Is a equal to b? \" + str(is_equal))\n",
    "print(\"Is a not equal to b? \" + str(is_not_equal))\n",
    "print(\"Is a greater than b? \" + str(is_greater))\n",
    "print(\"Is a less than b? \" + str(is_less))\n",
    "print(\"Is a greater than or equal to b? \" + str(is_greater_equal))\n",
    "print(\"Is a less than or equal to b? \" + str(is_less_equal))"
   ]
  },
  {
   "cell_type": "markdown",
   "metadata": {},
   "source": [
    "### Loginiai operatoriai\n",
    "\n",
    "Kad būtų galima jungti šių operacijų rezultatus, pavyzdžiui, ar temperatūra šiandienos didesnė nei praėjusiais metais ir šiandien lijo, bet nelijo vakar, tai naudojami loginiai operatoriai: \n",
    "\n",
    "| Operatorius |                             Pavadinimas                            | Pavyzdys         |\n",
    "|-------------|:------------------------------------------------------------------:|------------------|\n",
    "| and         | Grąžina True jeigu abu jei abu teiginiai (operandai) yra teisingi. | x < 5 and x < 10 |\n",
    "| or          |   Grąžina True jeigu vienas iš teiginių (operandų) yra teisingas.  | x < 5 or x < 4   |\n",
    "| not         |      Apverčia rezultatą, grąžina False, jeigu rezultatas true      | x > y            |\n",
    "\n",
    "Operacijų su šiais operandais rezultatais taip pat yra loginis (*True* arba *False*)."
   ]
  },
  {
   "cell_type": "code",
   "execution_count": 11,
   "metadata": {},
   "outputs": [
    {
     "name": "stdout",
     "output_type": "stream",
     "text": [
      "Is a equal to b AND is x equal to y? False\n",
      "Is a a equal to b OR is x not equal to y? False\n",
      "Is a a not equal to b AND is x not equal to y? True\n"
     ]
    }
   ],
   "source": [
    "# Defining new variables\n",
    "x = 15\n",
    "y = 10\n",
    "\n",
    "# a and b variables are defined above\n",
    "# a is defined as 10\n",
    "# b is defined as 20.5\n",
    "# Logical and comparison operations\n",
    "is_equal = a == b and X == y\n",
    "is_ab_equal_or_xy_not_equal = a == b and X != y\n",
    "is_ab_not_equal_and_xy_not_equal = a != b and x != y\n",
    "\n",
    "# Displaying comparison results\n",
    "print(\"Is a equal to b AND is x equal to y? \" + str(is_equal))\n",
    "print(\"Is a a equal to b OR is x not equal to y? \" + str(is_ab_equal_or_xy_not_equal))\n",
    "print(\"Is a a not equal to b AND is x not equal to y? \" + str(is_ab_not_equal_and_xy_not_equal))"
   ]
  },
  {
   "cell_type": "markdown",
   "metadata": {},
   "source": [
    "### Sąlyginių sakinių sintaksė \n",
    "\n",
    "Sąlyginiai sakiniai (kai norime atlikti kodą pagal tai ar sąlyga yra tiesa) užrašomi naudojant raktažodį *if*. Pavyzdys:"
   ]
  },
  {
   "cell_type": "code",
   "execution_count": 12,
   "metadata": {},
   "outputs": [
    {
     "name": "stdout",
     "output_type": "stream",
     "text": [
      "a is lesser than b\n"
     ]
    }
   ],
   "source": [
    "# a and b is defined earlier\n",
    "if a > b: \n",
    "    print(\"a is greater than b\")\n",
    "if a < b: \n",
    "    print(\"a is lesser than b\")"
   ]
  },
  {
   "cell_type": "markdown",
   "metadata": {},
   "source": [
    "Kaip matote, po sąlygos raktažodžio *if* rašomas reiškinys, kurio rezultatas yra *True* arba *False*. Šie sakiniai dažniausiai galima būti skaitomi paprastai, kaip įprastas tekstas. Šiuo atveju galima skaityti taip:\n",
    "\n",
    "1. jeigu a yra daugiau už b, tai atspausdint \"a is greater than b\";\n",
    "2. jeigu a yra mažiau už b, tai atspausdink \"a is lesser than b\".\n",
    "\n",
    "Svarbu žinoti, kad po sąlygos visos eilutės atitrauktos nuo dešinės pusės (žiūrėkite į kodą), bus įvykdytos. Pavyzdžiui:"
   ]
  },
  {
   "cell_type": "code",
   "execution_count": 13,
   "metadata": {},
   "outputs": [
    {
     "name": "stdout",
     "output_type": "stream",
     "text": [
      "1. a is lesser than b\n",
      "2. a is lesser than b\n",
      "3. a is lesser than b\n",
      "4. a is lesser than b\n",
      "5. a is lesser than b\n",
      "6. a is lesser than b\n",
      "7. a is lesser than b\n"
     ]
    }
   ],
   "source": [
    "# a and b is defined earlier\n",
    "if a > b: \n",
    "    print(\"1. a is greater than b\")\n",
    "    print(\"2. a is greater than b\")\n",
    "    print(\"3. a is greater than b\")\n",
    "    print(\"4. a is greater than b\")\n",
    "    print(\"5. a is greater than b\")\n",
    "    print(\"6. a is greater than b\")\n",
    "    print(\"7. a is greater than b\")\n",
    "    print(\"8. a is greater than b\")\n",
    "    print(\"9. a is greater than b\")\n",
    "if a < b: \n",
    "    print(\"1. a is lesser than b\")\n",
    "    print(\"2. a is lesser than b\")\n",
    "    print(\"3. a is lesser than b\")\n",
    "    print(\"4. a is lesser than b\")\n",
    "    print(\"5. a is lesser than b\")\n",
    "    print(\"6. a is lesser than b\")\n",
    "    print(\"7. a is lesser than b\")"
   ]
  },
  {
   "cell_type": "markdown",
   "metadata": {},
   "source": [
    "Taip galima įterpti net ir kitus sąlygos blokus: "
   ]
  },
  {
   "cell_type": "code",
   "execution_count": 14,
   "metadata": {},
   "outputs": [
    {
     "name": "stdout",
     "output_type": "stream",
     "text": [
      "a is lesser than b\n",
      "b is greater than b\n"
     ]
    }
   ],
   "source": [
    "if a < b: \n",
    "    print(\"a is lesser than b\")\n",
    "    if b > a: \n",
    "        print(\"b is greater than b\")"
   ]
  },
  {
   "cell_type": "markdown",
   "metadata": {},
   "source": [
    "Norint praplėsti sąlygos sakinius, kad būtų alternatyvi sąlygą (*kitu atveju jeigu*), programavimo kalbos, įskaitant ir *Python*, turi raktažodį *elif* (kitose programavimo kalbose nurodoma panašiai - *else if*): "
   ]
  },
  {
   "cell_type": "code",
   "execution_count": 17,
   "metadata": {},
   "outputs": [
    {
     "name": "stdout",
     "output_type": "stream",
     "text": [
      "a is less than b\n"
     ]
    }
   ],
   "source": [
    "if a > b:\n",
    "    print(\"a is greater than b\")\n",
    "elif a < b:\n",
    "    print(\"a is less than b\")\n",
    "else:\n",
    "    print(\"a is equal to b\")"
   ]
  },
  {
   "cell_type": "markdown",
   "metadata": {},
   "source": [
    "Taip pat viršuj esančiame kode matome ir kitą raktažodį *else*, kuris veikia taip: jeigu nei viena *if* ir/ar *elif* sąlyga (kad ir kiek jų būtų) yra netiesa (reiškinys yra lygus *False*), tai vykdomos visos kodo eilutės kurios yra po *else* raktažodžiu.  "
   ]
  },
  {
   "cell_type": "markdown",
   "metadata": {},
   "source": [
    "### Sąlyginiai sakiniai ir loginiai operatoriai"
   ]
  },
  {
   "cell_type": "markdown",
   "metadata": {},
   "source": [
    "Sąlygas galima jungti naudojant loginius operatorius, jų kiekis neribojamas, bet reikia laikytis kodo skaitomumo:"
   ]
  },
  {
   "cell_type": "code",
   "execution_count": 16,
   "metadata": {},
   "outputs": [
    {
     "name": "stdout",
     "output_type": "stream",
     "text": [
      "x is greater than y AND x is less than z.\n",
      "x is greater than y OR x is greater than z.\n",
      "x IS greater than y.\n",
      "x is greater than y AND x is NOT greater than z.\n",
      "At least one condition is true.\n",
      "Either x is greater than y OR z is the greatest amongst x and y.\n"
     ]
    }
   ],
   "source": [
    "z = 20\n",
    "# x and y is defined earlier, above\n",
    "# Using 'and' logical operator\n",
    "if x > y and x < z:\n",
    "    print(\"x is greater than y AND x is less than z.\")\n",
    "\n",
    "# Using 'or' logical operator\n",
    "if x > y or x > z:\n",
    "    print(\"x is greater than y OR x is greater than z.\")\n",
    "\n",
    "# Using 'not' logical operator\n",
    "is_x_greater_than_y = x > y\n",
    "if not is_x_greater_than_y:\n",
    "    print(\"x is NOT greater than y.\")\n",
    "else:\n",
    "    print(\"x IS greater than y.\")\n",
    "\n",
    "# Combining logical operators\n",
    "if x > y and (not x > z):\n",
    "    print(\"x is greater than y AND x is NOT greater than z.\")\n",
    "\n",
    "# Using 'not' with 'or'\n",
    "if not (x > y or x > z):\n",
    "    print(\"Neither condition is true.\")\n",
    "else:\n",
    "    print(\"At least one condition is true.\")\n",
    "\n",
    "# Checking multiple conditions\n",
    "if x > y and x > z and x > 0:\n",
    "    print(\"x is the largest and positive number.\")\n",
    "elif x > y or (z > x and z > y):\n",
    "    print(\"Either x is greater than y OR z is the greatest amongst x and y.\")\n",
    "else:\n",
    "    print(\"None of the above conditions are true.\")"
   ]
  },
  {
   "cell_type": "markdown",
   "metadata": {},
   "source": [
    "# Išspręstos užduotys"
   ]
  },
  {
   "cell_type": "markdown",
   "metadata": {},
   "source": [
    "## 01 užduotys | skaičiai"
   ]
  },
  {
   "cell_type": "markdown",
   "metadata": {},
   "source": [
    "1. suskaičiuoti **a**, kai $a=\\frac{5 \\cdot 10^{5}-6 \\cdot (-699)^2}{25}$\n",
    "\n",
    "   Tokiai užduočiai išspręsti reikia žinoti aritmetinius operatorius. Vienas iš variantų juos sužinoti suvesti į paieškos variklį (pvz.: google.com) raktažodžius \"python arithmetic variable\". Pavyzdžiui išsirinkome [Python Arithmetic Operators](https://www.w3schools.com/python/gloss_python_arithmetic_operators.asp). Taip pat, reikia žinoti, kad kintamieji sukuriami parašius jo vardą ir priskyrus jam reikšmę su lygybės ženklu. Užduoties sprendimas:"
   ]
  },
  {
   "cell_type": "code",
   "execution_count": 24,
   "metadata": {},
   "outputs": [
    {
     "name": "stdout",
     "output_type": "stream",
     "text": [
      "-97264.24\n"
     ]
    }
   ],
   "source": [
    "a = (5*10**5-6*(-699)**2)/25\n",
    "print(a)"
   ]
  },
  {
   "cell_type": "markdown",
   "metadata": {},
   "source": [
    "Reiktų nepamiršti skaičiuojant apskliausti reikalingose vietose reiškinį, kad būtų teisingai suskaičiuotas (pavyzdžiui turinti trupmeną). Aritmetiniai veiksmai atliekami tokia pat kaip ir matematikoje."
   ]
  },
  {
   "cell_type": "markdown",
   "metadata": {},
   "source": [
    "2. Ištraukti kvadratinę šaknį iš 25; 99.\n",
    "\n",
    "   Šiai užduočiai užtenka sužinoti, kaip traukiama skaičiaus kvadratinė šaknis *Python*'e. Žiūrėtame mūsų puslapyje tokio aritmetinio operatoriaus nėra. Tai pabandžius suvesti į paieškos variklį \"python square root\", [randame](https://www.geeksforgeeks.org/python-math-function-sqrt/) (arba [How do I calculate square root in Python?](https://stackoverflow.com/questions/70793490/how-do-i-calculate-square-root-in-python), kad reikia importuoti *math* modulį (apie modulius sužinosime ateityje) ir panaudoti math.sqrt(a) funkciją, kur a - skaičius, arba pasinaudojus matematika - pakėlus trupmena.  Matematikoje, kiekvieną šaknį galime pakeisti trupmena: $\\sqrt{a}=a^{\\frac{1}{2}}$ arba bendru atveju $\\sqrt[m]{a^{n}}=a^{\\frac{n}{m}}$."
   ]
  },
  {
   "cell_type": "code",
   "execution_count": 25,
   "metadata": {},
   "outputs": [
    {
     "name": "stdout",
     "output_type": "stream",
     "text": [
      "5.0\n",
      "9.9498743710662\n"
     ]
    }
   ],
   "source": [
    "# First number with math.sqrt\n",
    "import math\n",
    "print(math.sqrt(25))\n",
    "\n",
    "# Second number with fraction\n",
    "print(99**(1/2))"
   ]
  },
  {
   "cell_type": "markdown",
   "metadata": {},
   "source": [
    "3. Suskaičiuoti **c**, kai $c=\\sqrt[5]{13111}$.\n",
    "\n",
    "   Šiai užduočiai spręsti, vėl panaudosime laipsnių savybę. Šį kartą jau rezultatą priskirsime kintamąjam: "
   ]
  },
  {
   "cell_type": "code",
   "execution_count": 26,
   "metadata": {},
   "outputs": [
    {
     "name": "stdout",
     "output_type": "stream",
     "text": [
      "6.660811808551842\n"
     ]
    }
   ],
   "source": [
    "c = 13111**(1/5)\n",
    "# check result\n",
    "print(c)"
   ]
  },
  {
   "cell_type": "markdown",
   "metadata": {},
   "source": [
    "4. Suskaičiuoti **b**, kai $b=\\frac{b^{6}}{2,5}$\n",
    "\n",
    "Naujų aritmetinių veiksmų nėra, kelti ir dalinti išsiaiškinome jau anksčiau. Dabar reikės vietoj skaičiaus panaudoti kintamąjį, kurį jau sukūrėme praeitame žingsnyje:"
   ]
  },
  {
   "cell_type": "code",
   "execution_count": 27,
   "metadata": {},
   "outputs": [
    {
     "name": "stdout",
     "output_type": "stream",
     "text": [
      "34931.9614487693\n"
     ]
    }
   ],
   "source": [
    "b = (c**6)/2.5\n",
    "# check variable b\n",
    "print(b)"
   ]
  },
  {
   "cell_type": "markdown",
   "metadata": {},
   "source": [
    "5. Išvesti žinutę \"a is greater than or equal to b\", jeigu a daugiau arba lygu už b, kitu atveju \"a is lesser than b\";\n",
    "\n",
    "   Šiame žingnsnyje matome, kad veiksmus reikia atlikti esant tik tam tikrom sąlygom. Tokiu atveju naudosime *if*, *elif*, *else* sakinius: "
   ]
  },
  {
   "cell_type": "code",
   "execution_count": 37,
   "metadata": {},
   "outputs": [
    {
     "name": "stdout",
     "output_type": "stream",
     "text": [
      "a is lesser than b\n"
     ]
    }
   ],
   "source": [
    "if a >= b:\n",
    "    print(\"a is greater than or equal to b\")\n",
    "else:\n",
    "    print(\"a is lesser than b\")"
   ]
  },
  {
   "cell_type": "markdown",
   "metadata": {},
   "source": [
    "Iš užduoties žodis \"jeigu\" programavime užrašomas su ***if***, \"kitu atveju\" užrašomas ***else***, \"daugiau arba lygu\" su ***>=***."
   ]
  },
  {
   "cell_type": "markdown",
   "metadata": {},
   "source": [
    "6. Išvesti žinutę \"a is lesser than c\", kai **a** mažiau **c**, kitu atveju jeigu **a** yra lygu **c**, tai išvesti \"a is equal to c\", kitu atveju \"a is greater than c\";\n",
    "\n",
    "   Turime analogišką situaciją, kaip praeitame žingsnyje, tik čia prisideda dar vienas sąlygos sakinys (\"kitu atveju jeigu\"), kurį užrašysime su ***elif***:"
   ]
  },
  {
   "cell_type": "code",
   "execution_count": 39,
   "metadata": {},
   "outputs": [
    {
     "name": "stdout",
     "output_type": "stream",
     "text": [
      "a is lesser than c\n"
     ]
    }
   ],
   "source": [
    "if a < b:\n",
    "    print(\"a is lesser than c\")\n",
    "elif a == c:\n",
    "    print(\"a is equal to c\")\n",
    "else: \n",
    "    print(\"a is greater than c\")"
   ]
  },
  {
   "cell_type": "markdown",
   "metadata": {},
   "source": [
    "Matome, kad pirmos sąlygos reikšmei esant *True* - \"**a** mažiau **b**\" yra tiesa (žiūrėti į pirmą salygą po *if*), įvykdomi visi sakiniai po ta sąlyga ir kodas toliau nebevykdomas. "
   ]
  },
  {
   "cell_type": "markdown",
   "metadata": {},
   "source": [
    "## 02 Užduotys | skaičiai | alternatyva | skaičiuoklė"
   ]
  },
  {
   "cell_type": "markdown",
   "metadata": {},
   "source": [
    "Žodis skaičuoklė gali skambėti keistai, angliškai tai yra *spreadsheet*. Prieš tai buvusioms užduotis išspręsti panaudosime skaičiuoklės programą. Programą galime pasirinkti iš keletos alternatyvų: *Microsoft Excel*, *Google Sheets*, *LibreOffice Calc*. Ši užduotis bus sprendžiama su skaičiuokle tam, kad būtų parodyta langeliai, kaip analogija kintamiesiems. Naudosiu *Google Sheets*, bet lygiai tas pats veiks ir su kitomis programomis.\n",
    "\n",
    "1. suskaičiuoti **a**, kai $a=\\frac{5 \\cdot 10^{5}-6 \\cdot (-699)^2}{25}$\n",
    "\n",
    "   Kad langeliui būtų priskirta reikšmė, reikia pradžioje rašyti \"=\" (panašiai, kaip su *python*, tik dar reikia prieš lygybę parašyti kintamojo vardą). Tada kelimas laipsniu aprašomas su *POWER(a,b)* funkcija, visi kiti aritmentiniai operatoriai yra tokie pat. Į **B1** langelį įrašiau \"=(5*POWER(10,5)-6*POWER(-699,2))/25\" ir gaunu:\n",
    "\n",
    "   ![Užduoties sprendimas skaičiuokle 1](./e1_spreadsheet_01.png)"
   ]
  },
  {
   "cell_type": "markdown",
   "metadata": {},
   "source": [
    "2. Ištraukti kvadratinę šaknį iš 25; 99.\n",
    "\n",
    "   Turime analogišką situaciją, kaip ir su *Python*, šaknies traukimo operatoriaus nėra. Yra funkcija *sqrt(num)* arba galima pasinaudoti matematikos magija pakėlus skaičių trupmena.\n",
    "   \n",
    "![Užduoties sprendimas skaičiuokle 2_1](./e1_spreadsheet_02_01.png)\n",
    "![Užduoties sprendimas skaičiuokle 2_2](./e1_spreadsheet_02_02.png)"
   ]
  },
  {
   "cell_type": "markdown",
   "metadata": {},
   "source": [
    "3. Suskaičiuoti **c**, kai $c=\\sqrt[5]{13111}$.\n",
    "\n",
    "   Kadangi n-tojo laipsnio šaknies ištraukti neina su specializuota funkcija (kaip *sqrt(num)*), tai kelsime trupmeniniu laipsniu:\n",
    "\n",
    "![Užduoties sprendimas skaičiuokle 3](./e1_spreadsheet_03.png)"
   ]
  },
  {
   "attachments": {},
   "cell_type": "markdown",
   "metadata": {},
   "source": [
    "4. Suskaičiuoti **b**, kai $b=\\frac{b^{6}}{2,5}$\n",
    "\n",
    "   *Python* kalboje, kaip skaitiklį, įrašėme kintamąjį, o skaičiuoklėje įrašyme langelio koordinates:\n",
    "\n",
    "![Užduoties sprendimas skaičiuokle 4](e1_spreadsheet_04.png)"
   ]
  },
  {
   "cell_type": "markdown",
   "metadata": {},
   "source": [
    "5. Išvesti žinutę \"a is greater than or equal to b\", jeigu a daugiau arba lygu už b, kitu atveju \"a is lesser than b\";\n",
    "\n",
    "   Šią žinutę pavaizduosime langelyje su *IF* sintakse pasirinke atitinkamus langelius (*python*'e rašėme kintamuosius):\n",
    "\n",
    "   ![Užduoties sprendimas skaičiuokle 5](e1_spreadsheet_05.png)"
   ]
  },
  {
   "cell_type": "markdown",
   "metadata": {},
   "source": [
    "6. Išvesti žinutę \"a is lesser than c\", kai **a** mažiau **c**, kitu atveju jeigu **a** yra lygu **c**, tai išvesti \"a is equal to c\", kitu atveju \"a is greater than c\";\n",
    "\n",
    "   Kadangi skaičiuoklėse nėra *elif*, tai įrašysime vietoje *IF* trečiojo argumento kitą *IF*, taip sukursime atitikmenį *elif* programavime:\n",
    "\n",
    "   ![Užduoties sprendimas skaičiuokle 6](e1_spreadsheet_06.png)\n",
    "\n",
    "   Reikia atkreipti dėmesį, kai rašome \"ar lygu\", skirtingai nei programavime, skaičiuoklė tai užsirašo vienu lygybės ženklu \"=\" (programavime \"ar lygu\" užsirašo dviems lygybės ženklais \"==\")."
   ]
  },
  {
   "cell_type": "markdown",
   "metadata": {},
   "source": [
    "## 02 Užduotys | modulis"
   ]
  },
  {
   "cell_type": "markdown",
   "metadata": {},
   "source": [
    "Modulis yra skaičiaus vertė be skaičių lydinčio ženklo. Tarkim, modulis skaičių $4$ ir $-4$ yra vienoda ir lygi $4$. Modulis dar kitaip vadinamas absoliučia skaičiaus vertė. Dar galima skaičiaus modulį įsivaizduoti, kaip skaičiaus atstumą iki nulio:\n",
    "\n",
    "![Skaičiaus modulis - pavyzdys](./absolute_value_example.png)\n",
    "\n",
    "Matematikoje tai yra funkcija dalimis (angl. **piecewise function**):\n",
    "\n",
    "\n",
    "$$\\left|x\\right|=f(x)=\\left\\{\\begin{matrix}\n",
    "x  & \\text{jeigu} \\, x \\geq 0 \\\\ \n",
    "-x & \\text{jeigu} \\, x < 0\n",
    "\\end{matrix}\\right.$$\n",
    "\n",
    "Ši funkcija reiškia, kad jeigu modulyje esantis skaičius yra teigiamas, modulio rezultatas yra lygus tam skaičiui (žiūrėti pirmą formulės eilutę), jeigu modulyje esantis skaičius neigiamas ($x > 0$) tai rezultate prie skaičiaus esančio modulyje pridedamas minusas (arba kitaip padarome jį neigiamu). Kadangi tas skaičius jau ir taip neigiamas, tai *du minusai -> pliusas*. \n",
    "\n",
    "Aiškinant modulį, keletą buvo pavartotas žodis **jeigu**, tai reiškia sąlygą, o tai reiškia, kad galima tai užrašyti programavimo kalba.\n",
    "\n",
    "Pagal užduotį sprendimą reikės pasitikrinti su 3 skaičias: $-10$, $0$, $100$. Tai galima sukurti tris kintamuosius:"
   ]
  },
  {
   "cell_type": "code",
   "execution_count": 7,
   "metadata": {},
   "outputs": [
    {
     "name": "stdout",
     "output_type": "stream",
     "text": [
      "x1:\n",
      "-10\n",
      "--------\n",
      "x2:\n",
      "0\n",
      "--------\n",
      "x3:\n",
      "100\n",
      "--------\n"
     ]
    }
   ],
   "source": [
    "x1 = -10\n",
    "x2 = 0\n",
    "x3 = 100\n",
    "\n",
    "# check variables\n",
    "print(\"x1:\")\n",
    "print(x1)\n",
    "print(\"--------\")\n",
    "\n",
    "print(\"x2:\")\n",
    "print(x2)\n",
    "print(\"--------\")\n",
    "\n",
    "print(\"x3:\")\n",
    "print(x3)\n",
    "print(\"--------\")"
   ]
  },
  {
   "cell_type": "markdown",
   "metadata": {},
   "source": [
    "Dabar jau galima perrašyti modulio funkciją kiekvienam skaičiui. Ateityje bus išmokta naudotis ciklais ir funkcijomis, su kuriais kodo perrašymo skaičius mažės, o perpanaudojimas didės."
   ]
  },
  {
   "cell_type": "code",
   "execution_count": 17,
   "metadata": {},
   "outputs": [
    {
     "name": "stdout",
     "output_type": "stream",
     "text": [
      "|x1| = \n",
      "10\n",
      "--------\n",
      "|x2| = \n",
      "0\n",
      "--------\n",
      "|x3| = \n",
      "100\n"
     ]
    }
   ],
   "source": [
    "print(\"|x1| = \")\n",
    "if x1 >= 0:\n",
    "    mod_x1 = x1\n",
    "# In this case \"else\" can also be used instead of elif, it will work the same \n",
    "elif x1 < 0:\n",
    "    mod_x1 = -x1\n",
    "print(mod_x1)\n",
    "\n",
    "print(\"--------\")\n",
    "\n",
    "print(\"|x2| = \")\n",
    "if x2 >= 0:\n",
    "    mod_x2 = x2\n",
    "elif x2 < 0:\n",
    "    mod_x2 = -x2\n",
    "    \n",
    "print(mod_x2)\n",
    "\n",
    "print(\"--------\")\n",
    "\n",
    "print(\"|x3| = \")\n",
    "if x3 >= 0:\n",
    "    mod_x3 = x3\n",
    "elif x3 < 0:\n",
    "    mod_x3 = x3\n",
    "\n",
    "print(mod_x3)\n"
   ]
  },
  {
   "cell_type": "markdown",
   "metadata": {},
   "source": [
    "Kaip matome, pagal rezultatus, kodas parašytas teisingai. \n",
    "\n",
    "Tokios, dažnai naudojamas, funkcijos būna sukurtos programavimo kalboje ir jos vadinasi integruotomis (*angl. built-in functions*) arba standartinės bibliotekos funkcijomis (*angl. standard library functions*). Kad surastume modulio funkciją *Python* kalbome, galima paieškoti informacijos suvedus \"absolute value python\" (nors anglų kalbjoje šie žodžiai skiriasi, bet kitur dar galima surasti \"modulus\", bet nesumaišykite su \"modulo\", kas yra visiškai kitas dalykas). Randame, kad absoliuti skaičiaus reikšmė gali būti surasta su:\n",
    "\n",
    "- syntax: abs(number)\n",
    "- number: Integer, floating-point number, complex number.\n",
    "- return: Returns the absolute value.\n",
    "\n",
    "Toks parašymas reiškia, kad reikia naudoti funkciją *abs*, į kurią (naudojant skliaustus) įrašyme kažkokį tai skaičių, tas skaičius (žiūrėti \"number\") gali būti sveikasis, slankiojo kablelio, kompleksinis. Funkcijos reikšmė arba reikšmė, kurią gražina funkcija bus tos pateikto skaičiaus modulis (arba absoliuti reikšmė). Išbandome šią funkciją su *x1*, *x2*, *x3* skaičiais:"
   ]
  },
  {
   "cell_type": "code",
   "execution_count": 19,
   "metadata": {},
   "outputs": [
    {
     "name": "stdout",
     "output_type": "stream",
     "text": [
      "|x1| = \n",
      "10\n",
      "--------\n",
      "|x2| = \n",
      "0\n",
      "--------\n",
      "|x3| = \n",
      "100\n"
     ]
    }
   ],
   "source": [
    "# Syntax: abs(number)\n",
    "# number: Integer, floating-point number, complex number.\n",
    "# Return: Returns the absolute value.\n",
    "print(\"|x1| = \")\n",
    "print(abs(x1))\n",
    "\n",
    "print(\"--------\")\n",
    "print(\"|x2| = \")\n",
    "print(abs(x2))\n",
    "\n",
    "print(\"--------\")\n",
    "print(\"|x3| = \")\n",
    "print(abs(x3))"
   ]
  },
  {
   "cell_type": "markdown",
   "metadata": {},
   "source": [
    "Gautos reikšmės tokios pat, sumažintas eilučių skaičius, taip galima savo kodo rašymą padaryti efektyvesniu."
   ]
  },
  {
   "cell_type": "markdown",
   "metadata": {},
   "source": [
    "# Daugiau informacijos\n",
    "- https://realpython.com/python-variables/\n",
    "- https://www.w3schools.com/python/gloss_python_creating_variables.asp\n",
    "- https://realpython.com/python-conditional-statements/\n",
    "- https://www.geeksforgeeks.org/python-if-else/\n",
    "- https://www.geeksforgeeks.org/abs-in-python/"
   ]
  }
 ],
 "metadata": {
  "kernelspec": {
   "display_name": "Python 3 (ipykernel)",
   "language": "python",
   "name": "python3"
  },
  "language_info": {
   "codemirror_mode": {
    "name": "ipython",
    "version": 3
   },
   "file_extension": ".py",
   "mimetype": "text/x-python",
   "name": "python",
   "nbconvert_exporter": "python",
   "pygments_lexer": "ipython3",
   "version": "3.10.12"
  }
 },
 "nbformat": 4,
 "nbformat_minor": 4
}
